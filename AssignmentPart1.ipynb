{
 "cells": [
  {
   "cell_type": "markdown",
   "id": "ab2e2be9-ce45-4f3c-8de2-ef2092ecec33",
   "metadata": {},
   "source": [
    "![Coverpage](Coverpage.png)"
   ]
  },
  {
   "cell_type": "code",
   "execution_count": null,
   "id": "c80bc6e1-c991-4991-b679-9cf3e8d297c7",
   "metadata": {},
   "outputs": [],
   "source": [
    "github link"
   ]
  },
  {
   "cell_type": "markdown",
   "id": "b6b6f1ea-20c4-4ee3-abcc-698d19c1886b",
   "metadata": {},
   "source": [
    "__https://github.com/oscarhogan/Assignment2__"
   ]
  },
  {
   "cell_type": "markdown",
   "id": "397d34a0-8cd3-4f1b-8567-c1a37046f458",
   "metadata": {},
   "source": [
    "__Lab 5__"
   ]
  },
  {
   "cell_type": "code",
   "execution_count": null,
   "id": "8afc8249-16b6-4c50-b265-433a01b891ea",
   "metadata": {},
   "outputs": [],
   "source": [
    "import pickle\n",
    "\n",
    "with open('network_analysis/github_users.p', 'rb') as f:\n",
    "    G = pickle.load(f)\n",
    "G"
   ]
  },
  {
   "cell_type": "markdown",
   "id": "3455f8c8-cd9d-4eb0-8c1e-5a12f1b24d34",
   "metadata": {},
   "source": [
    "In this instance we are importing a subset of interactions between certain github users, under the label 'github_users.p' This data will be then subsetted again as to create a graph of networks between a series of Github users, represented by edges between nodes"
   ]
  },
  {
   "cell_type": "code",
   "execution_count": null,
   "id": "650b796e-7876-4cf9-afb5-08dce089b016",
   "metadata": {},
   "outputs": [],
   "source": [
    "print(len(G))\n",
    "print(type(G.nodes()))\n",
    "print(list(G.edges(data=True))[-1])\n",
    "print(list(G.nodes(data=True))[0]) \n",
    "print(type(list(G.edges(data=True))[-1][2]))"
   ]
  },
  {
   "cell_type": "markdown",
   "id": "910784fb-5c1b-4f9e-9623-c0c5b26c2268",
   "metadata": {},
   "source": [
    "The function 'print(len(G))' gives the size of the graph associated with the data from github, while 'print(type(G.nodes()))' gives you the data type of the nodes. In this instance the print function is also used to subset the element from the first row of the nodes column as well as subsetting the last element from the edges column."
   ]
  },
  {
   "cell_type": "code",
   "execution_count": null,
   "id": "f7a4d03c-6e2f-4d0d-915f-d2406331313c",
   "metadata": {
    "scrolled": true
   },
   "outputs": [],
   "source": [
    "list(G.degree)\n",
    "list(G.edges)"
   ]
  },
  {
   "cell_type": "markdown",
   "id": "6a93be8a-5d1b-4a6b-8a04-3ec2ced3b1d3",
   "metadata": {},
   "source": [
    "Listed are the degrees and edges in the 'github_users.p' dataset. Each degree represents a user of github with the edges being indicative of interactions between them, presumubly collaborations between github accounts; push, pulls etc. This is done using the basic list function."
   ]
  },
  {
   "cell_type": "code",
   "execution_count": null,
   "id": "29134248-4ea1-4cd0-aa36-5299e9d39076",
   "metadata": {
    "scrolled": true
   },
   "outputs": [],
   "source": [
    "import networkx as nx\n",
    "import matplotlib.pyplot as plt\n",
    "import pickle\n",
    "\n",
    "with open('network_analysis/github_users.p', 'rb') as f:\n",
    "    G = pickle.load(f)\n",
    "\n",
    "degree_centrality = nx.degree_centrality(G)\n",
    "list(degree_centrality)\n",
    "\n",
    "for node, centrality in degree_centrality.items():\n",
    "    print(f\"Node {node}: Degree Centrality = {centrality:.3f}\")"
   ]
  },
  {
   "cell_type": "markdown",
   "id": "dab7034b-7a92-47c7-b11d-1577b1426f51",
   "metadata": {},
   "source": [
    "Degree Centrality is a measure used to determine the relative importance of nodes within a graph. The measure is a product of the number of neighbours a node has divided by the total amount of neighbours a node could have. In this case given the sheer number of nodes the degree centrality values are small being overwhelmingly concentrated below 0.001. This is demonstrated upon creating a histogram using the imported matplotlib package with the concentration of values largely situated in the first bin, with a slim proportion of outliers reaching DC values of above 0.005."
   ]
  },
  {
   "cell_type": "code",
   "execution_count": null,
   "id": "87b42686-a028-49a1-9b13-a9811d042520",
   "metadata": {},
   "outputs": [],
   "source": [
    "plt.hist(degree_centrality.values(), bins=10, alpha=0.7, color='orange')\n",
    "plt.title('Degree Centrality Histogram')\n",
    "plt.xlabel('Degree Centrality')\n",
    "plt.ylabel('Frequency')\n",
    "plt.show()"
   ]
  },
  {
   "cell_type": "markdown",
   "id": "be7a69e0-720a-46ed-912c-8dbd8e72a39a",
   "metadata": {},
   "source": [
    "![a](a.png)"
   ]
  },
  {
   "cell_type": "markdown",
   "id": "6b0bea23-2a47-48d3-a2df-2d807b57eda0",
   "metadata": {},
   "source": [
    "Below I am creating a new edge selection borne solely of the edges 'u1','u10' and 'u3' under the label 'Goat'. A small subselection involving only three distinct edges allows for analysis of graphs demonstrating the relative centrality of each based on the number of adjacent edges, external to the original selection."
   ]
  },
  {
   "cell_type": "code",
   "execution_count": null,
   "id": "b3bb5568-ad49-4f23-baf0-1aa9fe8a82c1",
   "metadata": {},
   "outputs": [],
   "source": [
    "Goat=G.edges([\"u1\",\"u10\",\"u3\"])\n",
    "\n",
    "Goat"
   ]
  },
  {
   "cell_type": "code",
   "execution_count": null,
   "id": "f76f5a15-59b4-46ee-9835-cb1ae0aad27f",
   "metadata": {},
   "outputs": [],
   "source": [
    "Gh_sub = nx.DiGraph()\n",
    "len(Gh_sub)"
   ]
  },
  {
   "cell_type": "code",
   "execution_count": null,
   "id": "a45dcc09-3e20-41c7-9991-15c19ad1a0c7",
   "metadata": {
    "scrolled": true
   },
   "outputs": [],
   "source": [
    "Gh_sub.add_edges_from(Goat) \n",
    "len(degree_centrality)\n",
    "list(degree_centrality)"
   ]
  },
  {
   "cell_type": "markdown",
   "id": "f918451f-b68b-4f1c-81d9-ddc56a019c81",
   "metadata": {},
   "source": [
    "Visualised is a figure demonstrating the edges including the three subsetted nodes 'u3', 'u1' and 'u10'. Observation of the graph demonstrates the fact that the three nodes in question have differing degrees of centrality, with the node 'u3' being responsible for the vast majority of edges represented in the figure. 'u1' has only a few edges whereas 'u10' holds a very minor degree of centrality having only two neighbouring nodes."
   ]
  },
  {
   "cell_type": "code",
   "execution_count": null,
   "id": "44588e22-8064-42cb-ab79-5294373d0aca",
   "metadata": {},
   "outputs": [],
   "source": [
    "plt.figure(figsize=(6, 6))\n",
    "nx.draw(Gh_sub, with_labels=True)\n",
    "plt.show()"
   ]
  },
  {
   "cell_type": "markdown",
   "id": "a9f0476e-025d-4a92-ba71-3f6107c93cb7",
   "metadata": {},
   "source": [
    "![b](b.png)"
   ]
  },
  {
   "cell_type": "markdown",
   "id": "28e5f86b-fa89-44cd-b836-6704d6bad9ba",
   "metadata": {},
   "source": [
    "The next step is to import the nxviz package as to create a sequence of graphs giving alternate visualisations to relationship between the subsetted nodes. The MatrixPlot clearly demonstrates the fact that most of the edges are associated with a single node, whereas the other subsetted nodes of a relatively diminished importance."
   ]
  },
  {
   "cell_type": "code",
   "execution_count": null,
   "id": "6b28b034-c6f7-48ed-9f4f-eec522239c13",
   "metadata": {},
   "outputs": [],
   "source": [
    "import nxviz as nv\n",
    "from datetime import datetime, date\n",
    "\n",
    "nv.MatrixPlot(Gh_sub)\n",
    "plt.show()"
   ]
  },
  {
   "cell_type": "markdown",
   "id": "dda567ca-9e4a-4fde-9450-a228df5e504f",
   "metadata": {},
   "source": [
    "![c](c.png)\n",
    "\n",
    "Generating an ArcPlot perhaps most pertinently showcases the relationship between the subsetted nodes and their degree centrality with a single node being responsible for the overwhelming majority of edges."
   ]
  },
  {
   "cell_type": "code",
   "execution_count": null,
   "id": "17499784-d02c-42ee-bef9-31664f4146f5",
   "metadata": {},
   "outputs": [],
   "source": [
    "nv.ArcPlot(Gh_sub)\n",
    "plt.show()"
   ]
  },
  {
   "cell_type": "markdown",
   "id": "abb418fe-b8c5-432b-ae16-29f3ccd9f685",
   "metadata": {},
   "source": [
    "![d](d.png)\n",
    "\n",
    "The CircosPlot mirrors this, but in this instance is perhaps a less useful visualisation method given the fact that the one node holds a degree centrality far in excess of the others, obscuring the readability."
   ]
  },
  {
   "cell_type": "code",
   "execution_count": null,
   "id": "7f73462a-87e3-4c79-9306-d32123ee8535",
   "metadata": {},
   "outputs": [],
   "source": [
    "nv.CircosPlot(Gh_sub)\n",
    "plt.show()"
   ]
  },
  {
   "cell_type": "markdown",
   "id": "264c72df-3d9e-447f-8b41-8ee48fca13ae",
   "metadata": {},
   "source": [
    "![e](e.png)"
   ]
  },
  {
   "cell_type": "markdown",
   "id": "cabee34d-a3e6-4f4e-9cf0-fdbdca8a4643",
   "metadata": {},
   "source": [
    "__Challenge 2__"
   ]
  },
  {
   "cell_type": "code",
   "execution_count": null,
   "id": "d024e2ba-747f-4e73-a3dc-b53a990753a7",
   "metadata": {},
   "outputs": [],
   "source": [
    "import osmnx as ox\n",
    "from IPython.display import Image"
   ]
  },
  {
   "cell_type": "code",
   "execution_count": null,
   "id": "25ecf5c3-accf-4ece-8f56-478e97a777ae",
   "metadata": {},
   "outputs": [],
   "source": [
    "O = ox.graph_from_place(\"Oxford\", network_type=\"drive\")\n",
    "fig, ax = ox.plot_graph(O)"
   ]
  },
  {
   "cell_type": "markdown",
   "id": "77d2bb24-d5a0-4df8-839c-5b5c443fa5f0",
   "metadata": {},
   "source": [
    "![f](f.png)"
   ]
  },
  {
   "cell_type": "code",
   "execution_count": null,
   "id": "c8d0bea9-3ae8-41f7-9269-70a4cc10771b",
   "metadata": {},
   "outputs": [],
   "source": [
    "M = ox.utils_graph.get_undirected(O)\n",
    "D = ox.utils_graph.get_digraph(O)\n",
    "gdf_nodes, gdf_edges = ox.graph_to_gdfs(O)"
   ]
  },
  {
   "cell_type": "markdown",
   "id": "8d8b67e2-6b74-4af3-b4e6-d2bc714cff5e",
   "metadata": {},
   "source": [
    "For further analysis it is advantageous to convert our MultiDiGraph output into a geodataframe output such that the nodes are given point geometries in accordance with the CRS EPSG:4326."
   ]
  },
  {
   "cell_type": "code",
   "execution_count": null,
   "id": "6f51a115-5154-429e-bffa-7cf4dad9e822",
   "metadata": {},
   "outputs": [],
   "source": [
    "gdf_nodes.head()"
   ]
  },
  {
   "cell_type": "code",
   "execution_count": null,
   "id": "858c7c4e-ac72-436c-9b31-5c317af50aaf",
   "metadata": {},
   "outputs": [],
   "source": [
    "O_proj = ox.project_graph(O)\n",
    "nodes_proj, edges_proj = ox.graph_to_gdfs(O_proj, edges=True, nodes=True)\n",
    "graph_area_o = nodes_proj.unary_union.convex_hull.area\n",
    "graph_area_o"
   ]
  },
  {
   "cell_type": "markdown",
   "id": "d83f05d5-651a-499d-8397-51219e1e05a0",
   "metadata": {},
   "source": [
    "In this instance I identify the area of the graph in square metres, labelling it as 'graph_area_o' by using the spatial extent of the nodes"
   ]
  },
  {
   "cell_type": "code",
   "execution_count": null,
   "id": "b24d54a1-cca2-4456-93b7-907d00ad1a24",
   "metadata": {},
   "outputs": [],
   "source": [
    "ox.basic_stats(O_proj, area=graph_area_o, clean_int_tol=15)"
   ]
  },
  {
   "cell_type": "markdown",
   "id": "2ed519fd-70d5-4f15-8c76-e0d41c1fe82c",
   "metadata": {},
   "source": [
    "In this instance I am generating a more presentable schematic diagram of the road network in Oxford including some additional features. The figure size is set to 10 for ease of observation while the edge colour is specified as green providing a nice contrast with the dark background. Additionally I've chosen to keep nodes invisible as to provide a clean visual flourish while increasing the edge line width to 1.5, maximising legibility. In the same pane I've also set 'O' to include the capacity to calculate travel speeds and travel times, with the intention being toward having the capacity to demonstrate travel times between a set of specified coordinate locations as in navigation applications such as Google Maps."
   ]
  },
  {
   "cell_type": "code",
   "execution_count": null,
   "id": "eeab8a12-2193-42f3-ae74-79d660822acf",
   "metadata": {},
   "outputs": [],
   "source": [
    "place = {\"city\": \"Oxford\",\"country\": \"UK\"}\n",
    "O = ox.graph_from_place(place, network_type=\"drive\", truncate_by_edge=True)\n",
    "fig, ax = ox.plot_graph(O, figsize=(6, 6), node_size=0, edge_color=\"green\", edge_linewidth=1.5)\n",
    "\n",
    "O = ox.speed.add_edge_speeds(O)\n",
    "O = ox.speed.add_edge_travel_times(O)"
   ]
  },
  {
   "cell_type": "markdown",
   "id": "ceb1f9ad-a6f9-4b33-ad0e-e6002eef1bd0",
   "metadata": {},
   "source": [
    "![g](g.png)"
   ]
  },
  {
   "cell_type": "markdown",
   "id": "bd81ad4b-0ef0-4a18-916c-58beb4e5e729",
   "metadata": {},
   "source": [
    "Here I identify a two sets of coordinates on the O graph. One is designated as the origin and the other the destination."
   ]
  },
  {
   "cell_type": "code",
   "execution_count": null,
   "id": "d4d39261-a1ab-4955-a736-1ba4afec6577",
   "metadata": {},
   "outputs": [],
   "source": [
    "orig = ox.distance.nearest_nodes(O, X=-1.210433, Y=51.733963)   \n",
    "dest = ox.distance.nearest_nodes(O, X=-1.274409, Y=51.750201) "
   ]
  },
  {
   "cell_type": "markdown",
   "id": "fcdbc515-102f-4a20-840b-8442625c175d",
   "metadata": {},
   "source": [
    "Then, using the shortest_path method and applying the travel_time weight I can calulate the optimum path between a pair of specified points in Oxford. The outcome is given below, with the red line showcasing in a rudimentry sense, the optimum pathway. Clarification is needed in the sense that the map ceases to consider specific traffic regulations associated with the edges."
   ]
  },
  {
   "cell_type": "code",
   "execution_count": null,
   "id": "99c0bc74-bc4e-48aa-beb4-776ead69f8c7",
   "metadata": {},
   "outputs": [],
   "source": [
    "route = ox.shortest_path(O, orig, dest, weight=\"travel_time\")\n",
    "fig, ax = ox.plot_graph_route(O, route, node_size=0)"
   ]
  },
  {
   "cell_type": "markdown",
   "id": "cd52fce4-f6f1-4fe1-83de-6cd23c22c84b",
   "metadata": {},
   "source": [
    "![h](h.png)"
   ]
  },
  {
   "cell_type": "code",
   "execution_count": null,
   "id": "0614afe5-d6f7-4f7b-ab1f-ef1dee97a73d",
   "metadata": {},
   "outputs": [],
   "source": [
    "import networkx as nx\n",
    "import matplotlib.pyplot as plt"
   ]
  },
  {
   "cell_type": "raw",
   "id": "dc13ff34-1e36-4065-9273-a77235080ce9",
   "metadata": {},
   "source": [
    "As demonstrated in the prior example we can use the degree_centrality method to formulate a list of nodes and their relative importance in terms of edge connections with their contomporaries. It seems degree centrality is far more equal across the road network graph, as compared with the github equivalent. This makes sense as roads routinely intersect in three and four way formations. Thus it is likely that nodes form edges with three or four of their contemporaries but rarely more."
   ]
  },
  {
   "cell_type": "code",
   "execution_count": null,
   "id": "93618c1f-d006-496b-a15c-c74f39068c39",
   "metadata": {
    "scrolled": true
   },
   "outputs": [],
   "source": [
    "degree_centrality = nx.degree_centrality(O)\n",
    "\n",
    "for node, centrality in degree_centrality.items():\n",
    "    print(f\"Node {node}: Degree Centrality = {centrality:.3f}\")"
   ]
  },
  {
   "cell_type": "markdown",
   "id": "7ca527dc-32db-4c0e-a2fd-6e9af6d2c788",
   "metadata": {},
   "source": [
    "Betweeness centrality is a slightly more elaborate method of graph analysis founded on the relationship between nodes and their adjacent neighbours. Betweeness centrality measures the frequency at which the identified node is situated on the shortest possible pathway between a pair of further-flung non adjacent nodes. Thus a greater degree of variation is anticipated, based on an understanding that Oxford has a rather typical urban form in that many key roadway routes converge toward a central point which funnels traffic circulation. As such nodes toward this central location ought to have a higher betweeness centrality. The code layout is borrowed largely from that used prior with the 'betweenness_centrality' method replacing that where 'degree_centrality' once was."
   ]
  },
  {
   "cell_type": "code",
   "execution_count": null,
   "id": "29d43407-492e-4183-b8c3-c195d852b7c5",
   "metadata": {
    "scrolled": true
   },
   "outputs": [],
   "source": [
    "betweenness_centrality = nx.betweenness_centrality(O)\n",
    "\n",
    "for node, centrality in betweenness_centrality.items():\n",
    "    print(f\"Node {node}: Betweenness Centrality = {centrality:.3f}\")\n"
   ]
  },
  {
   "cell_type": "markdown",
   "id": "4d597970-6fcc-4258-8731-4decd9c0287d",
   "metadata": {},
   "source": [
    "Here we are using the plot_figure_ground method to create a nice iconographic map outcome of the central portion of Oxford. This could see use as symbology for an application or dashboard. Before applying the main code for generation we need ton alter a few settings which determine the size, resolution and format the outcome is saved as. In this instance the outcome is to be saved in my images folder and as a 'png' file format. The size is to be set at 240 pixels and a resolution of 40 dots per inches is given."
   ]
  },
  {
   "cell_type": "code",
   "execution_count": null,
   "id": "e99d4814-3211-455b-a7e9-a9e46283e9ac",
   "metadata": {},
   "outputs": [],
   "source": [
    "img_folder = \"images\"\n",
    "extension = \"png\"\n",
    "size = 240\n",
    "dpi = 40"
   ]
  },
  {
   "cell_type": "markdown",
   "id": "137f6cb9-3901-4a4c-bde7-d5c4d3f55e3e",
   "metadata": {},
   "source": [
    "This code is responsible for generating the outcome itself. A limited degree of rationale has been implemented toward determining the street widths. In acknowledgment of Oxfords largely pedestrianised nature I've increased the width of edges not open to vehicular traffic as they are prolific in the central area. The given point value is an area centered on a core section of the high street. The image itself is rendered in accordance with the paradigms set prior with with the height and width given as the aforementioned 240 size value, to give a square plot."
   ]
  },
  {
   "cell_type": "code",
   "execution_count": null,
   "id": "8d5dad1b-dcd3-474c-8633-444133db34a9",
   "metadata": {},
   "outputs": [],
   "source": [
    "street_widths = {\n",
    "    \"footway\": 0.9,\n",
    "    \"steps\": 0.9,\n",
    "    \"pedestrian\": 0.9,\n",
    "    \"path\": 0.9,\n",
    "    \"track\": 0.9,\n",
    "    \"service\": 2,\n",
    "    \"residential\": 3,\n",
    "    \"primary\": 5,\n",
    "    \"motorway\": 6,\n",
    "}\n",
    "place = \"Oxford\"\n",
    "point = (51.751766, -1.260737)\n",
    "fp = f\"./{img_folder}/{place}.{extension}\"\n",
    "fig, ax = ox.plot_figure_ground(\n",
    "    point=point,\n",
    "    filepath=fp,\n",
    "    network_type=\"all\",\n",
    "    street_widths=street_widths,\n",
    "    dpi=dpi,\n",
    "    save=True,\n",
    "    show=False,\n",
    "    close=True,\n",
    ")\n",
    "Image(fp, height=size, width=size)"
   ]
  },
  {
   "cell_type": "markdown",
   "id": "a65f30b8-e3ca-4db5-a96d-39ed1aa0360b",
   "metadata": {},
   "source": [
    "![i](i.png)"
   ]
  },
  {
   "cell_type": "code",
   "execution_count": null,
   "id": "d5881802-ee93-4a08-b908-843e212e5556",
   "metadata": {},
   "outputs": [],
   "source": [
    "weight = \"length\"\n",
    "O = ox.graph_from_place(\"Oxford\", network_type=\"drive\")\n",
    "orig = list(O.nodes)[0]\n",
    "dest = list(O.nodes)[-1]\n",
    "route = ox.shortest_path(O, orig, dest, weight=weight)"
   ]
  },
  {
   "cell_type": "markdown",
   "id": "8a46af14-7b8f-478f-a7f3-9e957a2d01cb",
   "metadata": {},
   "source": [
    "The mission in this instance is to produce an interactive map of the Oxford locale visualising the edge extent. This is achieved simply by creating a GeoDataframe in which the nodes are specified to 'false' such that only edges are visualised. The outcome is labelled as 'edges' are subject to the explore method, with the cartodbpositron tile being specified as it provides ease of observation."
   ]
  },
  {
   "cell_type": "code",
   "execution_count": null,
   "id": "d6ad621f-d198-4c45-ae44-01ae70cf9d78",
   "metadata": {},
   "outputs": [],
   "source": [
    "edges = ox.graph_to_gdfs(O, nodes=False)\n",
    "edges.explore(tiles=\"cartodbpositron\")"
   ]
  },
  {
   "cell_type": "markdown",
   "id": "fd7d913c-9665-4154-93da-cec6b11ba3af",
   "metadata": {},
   "source": [
    "![j](j.png)"
   ]
  },
  {
   "cell_type": "markdown",
   "id": "2c5fd32b-dde5-4d1b-b048-cb449a94988d",
   "metadata": {},
   "source": [
    "A similar process is undertaken in this instance but instead in inverse, with the edges being labelled as 'false' to prevent their visualisation. The same tile-set is used as prior for the sake of consistency. When generating nodes one has to the also specify radius size, with a value of 4 given as to preserve visability but also allow for distinction in areas where a large number of nodes are clustered."
   ]
  },
  {
   "cell_type": "markdown",
   "id": "fb4652eb-facb-424a-9067-e4454a506d13",
   "metadata": {},
   "source": [
    "![l](l.png)"
   ]
  },
  {
   "cell_type": "code",
   "execution_count": null,
   "id": "c1c1bb13-c44d-4970-a02c-3f71281020a4",
   "metadata": {},
   "outputs": [],
   "source": [
    "nodes = ox.graph_to_gdfs(O, edges=False)\n",
    "nodes.explore(tiles=\"cartodbpositron\", marker_kwds={\"radius\": 4})"
   ]
  },
  {
   "cell_type": "markdown",
   "id": "bbff8341-d401-40a6-9315-751188649b50",
   "metadata": {},
   "source": [
    "![k](k.png)"
   ]
  },
  {
   "cell_type": "markdown",
   "id": "e32d1cfb-dc39-4a2b-9f8e-6153e8a57a93",
   "metadata": {},
   "source": [
    "This final interactive map displays both the nodes and edges simultaneously while also visualising the betweenness_centrality for each of node. Use of the 'set_node_attributes' allows for the visualisation of a tertiary variable on the spatial plane. Both edges and nodes are set to true ensuring both are visualised while in this instance I've gone ahead and changed the tileset to the dark counterpart as it allows for easier for greater contrast with the high betweeness_centrality values allowing for an immediate distinction to be drawn. As hypothesised above, the higher betweeness centrality values are agglomerated toward a central location upon which many of the radial edges converge. Additionally more peripheral nodes which occupy key points of convergance hold rather high values. One could see how analysis like this could be of paramount importance for transport planners especcially when considering road byelaws or routeway alterations."
   ]
  },
  {
   "cell_type": "code",
   "execution_count": null,
   "id": "c64cab37-5052-405e-af02-0fad2c26569a",
   "metadata": {
    "scrolled": true
   },
   "outputs": [],
   "source": [
    "nx.set_node_attributes(O, nx.betweenness_centrality(O, weight=\"length\"), name=\"bc\")\n",
    "nodes, edges = ox.graph_to_gdfs(O, edges=True, nodes =True)\n",
    "m = edges.explore(color=\"skyblue\", tiles=\"cartodbdarkmatter\")\n",
    "bosh = nodes.explore(m=m, column=\"bc\", marker_kwds={\"radius\": 4})\n",
    "bosh"
   ]
  },
  {
   "cell_type": "markdown",
   "id": "db8bfa96-34be-430e-a7ff-db4ffcd5d56e",
   "metadata": {},
   "source": [
    "![l](l.png)"
   ]
  },
  {
   "cell_type": "markdown",
   "id": "152bf0b1-c914-4c66-b58e-27a5745025f2",
   "metadata": {},
   "source": [
    "I have then gone ahead an saved the desired O geopackage and graphl onto my computer as I can then load into a different format. For example below I load the gpkg file from my computer as a geopandas dataframe such that the nodes geometry can be hypothetically incoportated into a wider study involving other imported data."
   ]
  },
  {
   "cell_type": "code",
   "execution_count": null,
   "id": "d3789bb9-93a0-4f02-8999-516044ac9cc0",
   "metadata": {},
   "outputs": [],
   "source": [
    "ox.save_graph_geopackage(O, filepath=\"./data/mynetworkbest.gpkg\")\n",
    "ox.save_graphml(O, filepath=\"./data/mynetworkbest.graphml\")"
   ]
  },
  {
   "cell_type": "code",
   "execution_count": null,
   "id": "e1edd138-e566-4d09-a0c1-12e919858a5a",
   "metadata": {},
   "outputs": [],
   "source": [
    "import pandas as pd\n",
    "import geopandas as gpd"
   ]
  },
  {
   "cell_type": "code",
   "execution_count": null,
   "id": "bcca65d6-e3d0-4aaf-97e0-eb7ca9dc0e82",
   "metadata": {},
   "outputs": [],
   "source": [
    "data.head()"
   ]
  },
  {
   "cell_type": "code",
   "execution_count": null,
   "id": "3bd3b87b-f77c-4bc5-a2a8-def3d0c8e3bc",
   "metadata": {
    "scrolled": true
   },
   "outputs": [],
   "source": [
    "data = gpd.read_file(\"./data/mynetworkbest.gpkg\")\n",
    "data.explore('bc')"
   ]
  },
  {
   "cell_type": "markdown",
   "id": "5dfd510c-ba21-436a-b8ec-ccc6bec9bd9f",
   "metadata": {},
   "source": [
    "![m](m.png)"
   ]
  },
  {
   "cell_type": "markdown",
   "id": "e81ae56a-6998-4e8e-95ed-ea5d532f5954",
   "metadata": {},
   "source": [
    "Intruigingly only the nodes seem to have loaded in, albeit upon dragging the cursor over the nodes a 'street_count' value is given indicative of the number of edges so I'm unsure as to whats happening. The table also gives a betweeness centrality value indicative of a network."
   ]
  },
  {
   "cell_type": "code",
   "execution_count": null,
   "id": "25624956-28fc-451f-9049-f1a19e6013aa",
   "metadata": {},
   "outputs": [],
   "source": [
    "import osmnx as ox\n",
    "place = \"Oxford, UK\"\n",
    "tags = {\"building\": True}\n",
    "oxfordbuld = ox.features_from_place(place, tags)\n",
    "oxfordbuld.head()"
   ]
  },
  {
   "cell_type": "markdown",
   "id": "6f208ca5-1858-4a9e-9932-b0be2ddb4580",
   "metadata": {},
   "source": [
    "The final portion of this challenge involves use of the 'plot_footprints' method which gives a figure outcome based on the distribution of buildings and recreational open space on OpenStreetMap. The outcome below maps all the buildings and recreational open space in Oxford giving an interesting visualisation of the whole city."
   ]
  },
  {
   "cell_type": "code",
   "execution_count": null,
   "id": "63797d2d-599c-428d-aab6-888ac0f9aa8d",
   "metadata": {},
   "outputs": [],
   "source": [
    "fig, ax = ox.plot_footprints(oxfordbuld, figsize=(8, 6))"
   ]
  },
  {
   "cell_type": "markdown",
   "id": "52f0c244-5b3f-4687-ad5b-e28ba38e80de",
   "metadata": {},
   "source": [
    "![n](n.png)"
   ]
  },
  {
   "cell_type": "code",
   "execution_count": null,
   "id": "2aa4a6b0-e8f2-486f-9c20-04b82fd758fd",
   "metadata": {},
   "outputs": [],
   "source": []
  }
 ],
 "metadata": {
  "kernelspec": {
   "display_name": "Python 3 (ipykernel)",
   "language": "python",
   "name": "python3"
  },
  "language_info": {
   "codemirror_mode": {
    "name": "ipython",
    "version": 3
   },
   "file_extension": ".py",
   "mimetype": "text/x-python",
   "name": "python",
   "nbconvert_exporter": "python",
   "pygments_lexer": "ipython3",
   "version": "3.10.13"
  }
 },
 "nbformat": 4,
 "nbformat_minor": 5
}
